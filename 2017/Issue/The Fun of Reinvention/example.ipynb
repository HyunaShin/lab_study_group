{
 "cells": [
  {
   "cell_type": "markdown",
   "metadata": {},
   "source": [
    "### 변수의 타입을 지정하는 것처럼 보이지만 실제로는 주석\n",
    "따라서 변수의 타입이 무엇이 되든 영향을 받지 않음"
   ]
  },
  {
   "cell_type": "code",
   "execution_count": 1,
   "metadata": {
    "collapsed": true
   },
   "outputs": [],
   "source": [
    "def anno_func(arg1: str, arg2: 'also str', arg3: 1 is True) -> bool:\n",
    "    print(arg1, arg2, arg3)"
   ]
  },
  {
   "cell_type": "code",
   "execution_count": 2,
   "metadata": {},
   "outputs": [
    {
     "name": "stdout",
     "output_type": "stream",
     "text": [
      "1 True world\n"
     ]
    }
   ],
   "source": [
    "anno_func(1, True, 'world')"
   ]
  },
  {
   "cell_type": "markdown",
   "metadata": {},
   "source": [
    "\\__annotations__에는 주석으로 지정한 값이 할당되어 있음"
   ]
  },
  {
   "cell_type": "code",
   "execution_count": 3,
   "metadata": {},
   "outputs": [
    {
     "name": "stdout",
     "output_type": "stream",
     "text": [
      "{'arg1': <class 'str'>, 'arg2': 'also str', 'arg3': False, 'return': <class 'bool'>}\n"
     ]
    }
   ],
   "source": [
    "print(anno_func.__annotations__)"
   ]
  },
  {
   "cell_type": "code",
   "execution_count": 4,
   "metadata": {},
   "outputs": [
    {
     "name": "stdout",
     "output_type": "stream",
     "text": [
      "<class 'str'>\n"
     ]
    }
   ],
   "source": [
    "print(anno_func.__annotations__['arg1'])"
   ]
  },
  {
   "cell_type": "code",
   "execution_count": 5,
   "metadata": {
    "collapsed": true
   },
   "outputs": [],
   "source": [
    "def static_args_func(arg1: str, arg2: str, arg3: int) -> bool:\n",
    "    args = locals() # 현재의 namespace를 딕셔너리로 구성하여 반환\n",
    "#     print(args)\n",
    "    for _k, _v in args.items():\n",
    "        arg_type = static_args_func.__annotations__[_k]\n",
    "\n",
    "        if isinstance(_v, arg_type): # isinstance()함수는 해당 값의 자료형태를 비교할때 사용\n",
    "            continue\n",
    "\n",
    "        raise TypeError(\n",
    "            \"The type of '{}' does not match '{}' type\".format(\n",
    "                _k, arg_type.__name__\n",
    "            )\n",
    "        )\n",
    "    print(arg1, arg2, arg3)"
   ]
  },
  {
   "cell_type": "code",
   "execution_count": 6,
   "metadata": {},
   "outputs": [
    {
     "ename": "TypeError",
     "evalue": "The type of 'arg2' does not match 'str' type",
     "output_type": "error",
     "traceback": [
      "\u001b[0;31m---------------------------------------------------------------------------\u001b[0m",
      "\u001b[0;31mTypeError\u001b[0m                                 Traceback (most recent call last)",
      "\u001b[0;32m<ipython-input-6-021e4ceb3481>\u001b[0m in \u001b[0;36m<module>\u001b[0;34m()\u001b[0m\n\u001b[0;32m----> 1\u001b[0;31m \u001b[0mstatic_args_func\u001b[0m\u001b[0;34m(\u001b[0m\u001b[0;36m1\u001b[0m\u001b[0;34m,\u001b[0m \u001b[0;36m2\u001b[0m\u001b[0;34m,\u001b[0m \u001b[0;36m3\u001b[0m\u001b[0;34m)\u001b[0m\u001b[0;34m\u001b[0m\u001b[0m\n\u001b[0m",
      "\u001b[0;32m<ipython-input-5-ded5faf8596e>\u001b[0m in \u001b[0;36mstatic_args_func\u001b[0;34m(arg1, arg2, arg3)\u001b[0m\n\u001b[1;32m     10\u001b[0m         raise TypeError(\n\u001b[1;32m     11\u001b[0m             \"The type of '{}' does not match '{}' type\".format(\n\u001b[0;32m---> 12\u001b[0;31m                 \u001b[0m_k\u001b[0m\u001b[0;34m,\u001b[0m \u001b[0marg_type\u001b[0m\u001b[0;34m.\u001b[0m\u001b[0m__name__\u001b[0m\u001b[0;34m\u001b[0m\u001b[0m\n\u001b[0m\u001b[1;32m     13\u001b[0m             )\n\u001b[1;32m     14\u001b[0m         )\n",
      "\u001b[0;31mTypeError\u001b[0m: The type of 'arg2' does not match 'str' type"
     ]
    }
   ],
   "source": [
    "static_args_func(1, 2, 3)"
   ]
  },
  {
   "cell_type": "markdown",
   "metadata": {},
   "source": [
    "### 가변 매개 변수 형 검사"
   ]
  },
  {
   "cell_type": "code",
   "execution_count": 7,
   "metadata": {
    "collapsed": true
   },
   "outputs": [],
   "source": [
    "def type_checking_func(*args: (int, int, ...)):\n",
    "    # 두번째 변수까지 형 검사 실행, 그 이후 변수는 형 검사 생략\n",
    "    annotations = type_checking_func.__annotations__\n",
    "\n",
    "    if (\n",
    "        not isinstance(annotations, dict) or\n",
    "        len(annotations) == 0\n",
    "    ):\n",
    "        return type_checking_func(*args)\n",
    "\n",
    "    try:\n",
    "        _check_index = annotations['args'].index(Ellipsis)\n",
    "    except ValueError:\n",
    "        _check_index = len(annotations) - 1\n",
    "\n",
    "    for i, _v in enumerate(args[:_check_index]):\n",
    "        arg_type = annotations['args'][i]\n",
    "\n",
    "        if isinstance(_v, arg_type):\n",
    "            continue\n",
    "\n",
    "        raise TypeError(\n",
    "            \"The type of '{}' does not match '{}' type\".format(\n",
    "                _v, arg_type.__name__\n",
    "            )\n",
    "        )\n",
    "    print(*args)"
   ]
  },
  {
   "cell_type": "code",
   "execution_count": 8,
   "metadata": {},
   "outputs": [
    {
     "name": "stdout",
     "output_type": "stream",
     "text": [
      "1 2 3 a [1, 2, 3]\n"
     ]
    }
   ],
   "source": [
    "type_checking_func(1, 2, '3', 'a', [1,2,3])"
   ]
  },
  {
   "cell_type": "code",
   "execution_count": 9,
   "metadata": {},
   "outputs": [
    {
     "ename": "TypeError",
     "evalue": "The type of '2' does not match 'int' type",
     "output_type": "error",
     "traceback": [
      "\u001b[0;31m---------------------------------------------------------------------------\u001b[0m",
      "\u001b[0;31mTypeError\u001b[0m                                 Traceback (most recent call last)",
      "\u001b[0;32m<ipython-input-9-ba8026bcdece>\u001b[0m in \u001b[0;36m<module>\u001b[0;34m()\u001b[0m\n\u001b[0;32m----> 1\u001b[0;31m \u001b[0mtype_checking_func\u001b[0m\u001b[0;34m(\u001b[0m\u001b[0;36m1\u001b[0m\u001b[0;34m,\u001b[0m \u001b[0;34m'2'\u001b[0m\u001b[0;34m,\u001b[0m \u001b[0;34m'3'\u001b[0m\u001b[0;34m,\u001b[0m \u001b[0;34m'a'\u001b[0m\u001b[0;34m)\u001b[0m\u001b[0;34m\u001b[0m\u001b[0m\n\u001b[0m",
      "\u001b[0;32m<ipython-input-7-e1e639190327>\u001b[0m in \u001b[0;36mtype_checking_func\u001b[0;34m(*args)\u001b[0m\n\u001b[1;32m     22\u001b[0m         raise TypeError(\n\u001b[1;32m     23\u001b[0m             \"The type of '{}' does not match '{}' type\".format(\n\u001b[0;32m---> 24\u001b[0;31m                 \u001b[0m_v\u001b[0m\u001b[0;34m,\u001b[0m \u001b[0marg_type\u001b[0m\u001b[0;34m.\u001b[0m\u001b[0m__name__\u001b[0m\u001b[0;34m\u001b[0m\u001b[0m\n\u001b[0m\u001b[1;32m     25\u001b[0m             )\n\u001b[1;32m     26\u001b[0m         )\n",
      "\u001b[0;31mTypeError\u001b[0m: The type of '2' does not match 'int' type"
     ]
    }
   ],
   "source": [
    "type_checking_func(1, '2', '3', 'a')"
   ]
  },
  {
   "cell_type": "code",
   "execution_count": 10,
   "metadata": {},
   "outputs": [
    {
     "name": "stdout",
     "output_type": "stream",
     "text": [
      "1 2 3 a\n"
     ]
    }
   ],
   "source": [
    "type_checking_func(1, 2, '3', 'a')"
   ]
  },
  {
   "cell_type": "markdown",
   "metadata": {},
   "source": [
    "- 변수의 형 검사를 decorator로 만들어서 사용할 수도 있음"
   ]
  },
  {
   "cell_type": "code",
   "execution_count": 11,
   "metadata": {
    "collapsed": true
   },
   "outputs": [],
   "source": [
    "def check_argument_type(func):\n",
    "    def wrapper(*args):\n",
    "        annotations = func.__annotations__\n",
    "        if (\n",
    "            not isinstance(annotations, dict) or\n",
    "            len(annotations) == 0\n",
    "        ):\n",
    "            return func(*args)\n",
    "\n",
    "        try:\n",
    "            check_index = annotations['args'].index(Ellipsis)\n",
    "        except ValueError:\n",
    "            check_index = len(annotations['args']) - 1\n",
    "\n",
    "        for _i, _v in enumerate(args[:check_index]):\n",
    "            _arg_type = annotations['args'][_i]\n",
    "\n",
    "            if isinstance(_v, _arg_type):\n",
    "                continue\n",
    "\n",
    "            raise TypeError(\n",
    "                \"The type of '{}' does not match '{}' type\".format(\n",
    "                    _v, _arg_type.__name__\n",
    "                )\n",
    "            )\n",
    "        return func(*args)\n",
    "    return wrapper"
   ]
  },
  {
   "cell_type": "code",
   "execution_count": 12,
   "metadata": {
    "collapsed": true
   },
   "outputs": [],
   "source": [
    "@check_argument_type\n",
    "def hello_func(*args: (int, int, ...)):\n",
    "    print(*args)"
   ]
  },
  {
   "cell_type": "code",
   "execution_count": 13,
   "metadata": {},
   "outputs": [
    {
     "name": "stdout",
     "output_type": "stream",
     "text": [
      "1 2 3 a\n"
     ]
    }
   ],
   "source": [
    "hello_func(1, 2, '3', 'a')"
   ]
  },
  {
   "cell_type": "code",
   "execution_count": 14,
   "metadata": {},
   "outputs": [
    {
     "ename": "TypeError",
     "evalue": "The type of '2' does not match 'int' type",
     "output_type": "error",
     "traceback": [
      "\u001b[0;31m---------------------------------------------------------------------------\u001b[0m",
      "\u001b[0;31mTypeError\u001b[0m                                 Traceback (most recent call last)",
      "\u001b[0;32m<ipython-input-14-34ded046e38f>\u001b[0m in \u001b[0;36m<module>\u001b[0;34m()\u001b[0m\n\u001b[0;32m----> 1\u001b[0;31m \u001b[0mhello_func\u001b[0m\u001b[0;34m(\u001b[0m\u001b[0;36m1\u001b[0m\u001b[0;34m,\u001b[0m \u001b[0;34m'2'\u001b[0m\u001b[0;34m,\u001b[0m \u001b[0;34m'3'\u001b[0m\u001b[0;34m,\u001b[0m \u001b[0;34m'a'\u001b[0m\u001b[0;34m)\u001b[0m\u001b[0;34m\u001b[0m\u001b[0m\n\u001b[0m",
      "\u001b[0;32m<ipython-input-11-31980d0dd80b>\u001b[0m in \u001b[0;36mwrapper\u001b[0;34m(*args)\u001b[0m\n\u001b[1;32m     21\u001b[0m             raise TypeError(\n\u001b[1;32m     22\u001b[0m                 \"The type of '{}' does not match '{}' type\".format(\n\u001b[0;32m---> 23\u001b[0;31m                     \u001b[0m_v\u001b[0m\u001b[0;34m,\u001b[0m \u001b[0m_arg_type\u001b[0m\u001b[0;34m.\u001b[0m\u001b[0m__name__\u001b[0m\u001b[0;34m\u001b[0m\u001b[0m\n\u001b[0m\u001b[1;32m     24\u001b[0m                 )\n\u001b[1;32m     25\u001b[0m             )\n",
      "\u001b[0;31mTypeError\u001b[0m: The type of '2' does not match 'int' type"
     ]
    }
   ],
   "source": [
    "hello_func(1, '2', '3', 'a')"
   ]
  },
  {
   "cell_type": "markdown",
   "metadata": {},
   "source": [
    "참고: [Python 3에서 함수의 키워드 인자 강제와 주석문](http://blog.hannal.com/2015/03/keyword-only-arguments_and_annotations_for_python3/)"
   ]
  }
 ],
 "metadata": {
  "kernelspec": {
   "display_name": "Python 3",
   "language": "python",
   "name": "python3"
  },
  "language_info": {
   "codemirror_mode": {
    "name": "ipython",
    "version": 3
   },
   "file_extension": ".py",
   "mimetype": "text/x-python",
   "name": "python",
   "nbconvert_exporter": "python",
   "pygments_lexer": "ipython3",
   "version": "3.6.2"
  }
 },
 "nbformat": 4,
 "nbformat_minor": 2
}
